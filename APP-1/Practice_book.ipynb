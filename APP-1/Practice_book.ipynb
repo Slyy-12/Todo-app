{
 "cells": [
  {
   "cell_type": "code",
   "execution_count": null,
   "id": "c00221b1",
   "metadata": {},
   "outputs": [],
   "source": [
    "password = input('Enter the password')\n",
    "\n",
    "while password != \"pass123\":\n",
    "    password = input(\"Enter password:\")\n",
    "\n",
    "print('Password is correct')"
   ]
  },
  {
   "cell_type": "code",
   "execution_count": null,
   "id": "f1c68880",
   "metadata": {},
   "outputs": [],
   "source": [
    "var = 'Will you remeber this?' \n",
    "\n",
    "users =[]\n",
    "\n",
    "while True:\n",
    "    user = input(var)\n",
    "    print(user.capitalize())\n",
    "    users.append(user)\n"
   ]
  },
  {
   "cell_type": "code",
   "execution_count": 12,
   "id": "a3d86b6d",
   "metadata": {},
   "outputs": [
    {
     "name": "stdout",
     "output_type": "stream",
     "text": [
      "Pasta\n",
      "Pizza\n",
      "Wine\n",
      "done\n"
     ]
    }
   ],
   "source": [
    "meals = ['pasta', 'pizza', 'wine']\n",
    "\n",
    "for meal in meals: \n",
    "    print(meal.title())\n",
    "\n",
    "print('done')"
   ]
  },
  {
   "cell_type": "code",
   "execution_count": null,
   "id": "caa3aced",
   "metadata": {},
   "outputs": [],
   "source": [
    "while True:\n",
    "    print(\"Rheem\")"
   ]
  },
  {
   "cell_type": "code",
   "execution_count": null,
   "id": "04131cd5",
   "metadata": {},
   "outputs": [],
   "source": [
    "x = 1\n",
    "\n",
    "while x <=6:\n",
    "    print (x)\n",
    "    x = x + 1"
   ]
  },
  {
   "cell_type": "code",
   "execution_count": null,
   "id": "a11f05e7",
   "metadata": {},
   "outputs": [],
   "source": [
    "\n",
    "\n",
    "while True:\n",
    "    name = input('What is your name?')\n",
    "    print(name.capitalize())"
   ]
  },
  {
   "cell_type": "code",
   "execution_count": null,
   "id": "904540fc",
   "metadata": {},
   "outputs": [
    {
     "name": "stdout",
     "output_type": "stream",
     "text": [
      "add\n",
      "1\n",
      "3\n"
     ]
    }
   ],
   "source": [
    "todos =[]\n",
    "\n",
    "while True:\n",
    "    user_action = input(\"Type add, show, edit or exit: \")\n",
    "    user_action = user_action.strip()\n",
    "    match user_action:\n",
    "        case 'add':\n",
    "            todo = input(\"enter a todo: \")\n",
    "            todos.append(todo)\n",
    "        case 'show':\n",
    "            for item in todos:\n",
    "\n",
    "                print(item)\n",
    "        case 'exit':\n",
    "            break\n",
    "        case 'edit':\n",
    "            print(\"Got it\")\n",
    "\n",
    "print(\"Bye\")"
   ]
  },
  {
   "cell_type": "code",
   "execution_count": 6,
   "id": "c7234c9f",
   "metadata": {},
   "outputs": [
    {
     "name": "stdout",
     "output_type": "stream",
     "text": [
      "Hello\n"
     ]
    }
   ],
   "source": [
    "def greet():\n",
    "    message = \"hello\"\n",
    "    new_message = message.capitalize()\n",
    "    return new_message\n",
    "\n",
    "greeting = greet()\n",
    "print(greeting)"
   ]
  },
  {
   "cell_type": "code",
   "execution_count": null,
   "id": "29dfca7f",
   "metadata": {},
   "outputs": [],
   "source": [
    "import webbrowser\n",
    "\n",
    "user_term = input(\"Enter a search term: \")\n",
    "\n",
    "webbrowser.open(\"https://www.google.com/search?q=\" + user_term)"
   ]
  },
  {
   "cell_type": "code",
   "execution_count": 2,
   "id": "76a7293f",
   "metadata": {},
   "outputs": [
    {
     "name": "stdout",
     "output_type": "stream",
     "text": [
      "1-Raw data.txt\n",
      "2-Reports.txt\n",
      "3-pres.txt\n"
     ]
    }
   ],
   "source": [
    "filenames = [\"1.Raw data.txt\", \"2.Reports.txt\", \"3.pres.txt\"]\n",
    "\n",
    "for filename in filenames: \n",
    "    filename = filename.replace('.','-',1)\n",
    "    print(filename)"
   ]
  },
  {
   "cell_type": "code",
   "execution_count": 8,
   "id": "39cd2afc",
   "metadata": {},
   "outputs": [
    {
     "name": "stdout",
     "output_type": "stream",
     "text": [
      "['a', 'x', 'c']\n"
     ]
    }
   ],
   "source": [
    "elements = ['a', 'b', 'c']\n",
    "new = 'x'\n",
    "elements[1] = new\n",
    "print(elements)"
   ]
  },
  {
   "cell_type": "code",
   "execution_count": null,
   "id": "51bc412d",
   "metadata": {},
   "outputs": [
    {
     "name": "stdout",
     "output_type": "stream",
     "text": [
      "hello\n"
     ]
    }
   ],
   "source": [
    "with open(\"doc.txt\") as file:\n",
    "    print(\"Hello\")"
   ]
  },
  {
   "cell_type": "code",
   "execution_count": null,
   "id": "df00cbf8",
   "metadata": {},
   "outputs": [],
   "source": [
    "import glob\n",
    "\n",
    "myfiles = glob.glob(\"APP-1/files/*.txt\")\n",
    "\n",
    "for filepath in myfiles:\n",
    "    with open(filepath, 'r') as file:\n",
    "        print(file.read())\n",
    "\n"
   ]
  },
  {
   "cell_type": "code",
   "execution_count": null,
   "id": "cbe6d30f",
   "metadata": {},
   "outputs": [],
   "source": [
    "#Learn Json \n",
    "\n",
    "import json \n",
    "\n",
    "with open(\"questions.json\", 'r') as file:\n",
    "    content = file.read()\n",
    "\n",
    "data = json.loads(content)\n",
    "score = 0\n",
    "\n",
    "for question in data:\n",
    "    print(question[\"question_text\"])\n",
    "    for index, alternatives in (enumerate(question[\"alternatives\"])):\n",
    "        print(index + 1, \"-\", alternatives)\n",
    "    user_choice = int(input(\"Enter your answer: \"))\n",
    "    question[\"user_choice\"] = user_choice\n",
    "    if question[\"user_choice\"] == question[\"correct_answer\"]:\n",
    "        score = score + 1\n",
    "\n",
    "for index, question in enumerate(data):\n",
    "    message = f\"{index+1}answer: {question ['user_choice']},\" \\\n",
    "                              f\"Correct answer: {question['correct_answer']}\"\n",
    "    print(message)\n",
    "\n",
    "print(data)\n",
    "print(score, \"/\", len(data))    "
   ]
  },
  {
   "cell_type": "code",
   "execution_count": 1,
   "id": "6e0f8f8b",
   "metadata": {},
   "outputs": [
    {
     "name": "stdout",
     "output_type": "stream",
     "text": [
      "3\n"
     ]
    }
   ],
   "source": [
    "import random\n",
    "\n",
    "# Get two numbers from the user and covert them to integers\n",
    "lower_bound = int(input(\"Enter the lower bound: \"))\n",
    "upper_bound = int(input(\"Enter the upper bound: \"))\n",
    "\n",
    "# Pick a random int using randint()\n",
    "rand = random.randint(lower_bound, upper_bound) \n",
    "\n",
    "print(rand)"
   ]
  }
 ],
 "metadata": {
  "kernelspec": {
   "display_name": ".venv",
   "language": "python",
   "name": "python3"
  },
  "language_info": {
   "codemirror_mode": {
    "name": "ipython",
    "version": 3
   },
   "file_extension": ".py",
   "mimetype": "text/x-python",
   "name": "python",
   "nbconvert_exporter": "python",
   "pygments_lexer": "ipython3",
   "version": "3.13.0"
  }
 },
 "nbformat": 4,
 "nbformat_minor": 5
}
