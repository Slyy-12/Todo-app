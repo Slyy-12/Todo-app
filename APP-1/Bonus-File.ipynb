{
 "cells": [
  {
   "cell_type": "code",
   "execution_count": null,
   "id": "20548450",
   "metadata": {},
   "outputs": [],
   "source": [
    "contents = [\"How are you \", \"Good thanks\", \"And, yourself?\"]\n",
    "\n",
    "filenames = [\"doc.txt\", \"rock.txt\", \"file.txt\"]\n",
    "\n",
    "for contents, filename in zip(contents, filenames):\n",
    "    file = open(f\"{filename}\", 'w')\n",
    "    file.write(contents)"
   ]
  },
  {
   "cell_type": "code",
   "execution_count": null,
   "id": "ffe13485",
   "metadata": {},
   "outputs": [],
   "source": [
    "user_input = input(\"Add a new member:\")\n",
    "\n",
    "file = open(\"members.txt\", 'a')\n",
    "\n",
    "file.writelines(user_input +\"\\n\")\n",
    "file.close()"
   ]
  },
  {
   "cell_type": "code",
   "execution_count": null,
   "id": "69bbbd07",
   "metadata": {},
   "outputs": [],
   "source": [
    "filenames = ['doc.txt', 'report.txt', 'presentation.txt']\n",
    "\n",
    "for filename in filenames:\n",
    "    file = open(filename, 'w')\n",
    "\n",
    "    file.write(\"Hello\")\n",
    "    file.close()"
   ]
  },
  {
   "cell_type": "code",
   "execution_count": null,
   "id": "d5babd0b",
   "metadata": {},
   "outputs": [],
   "source": [
    "filenames = [\"a.txt\", \"b.txt\", \"c.txt\"]\n",
    "\n",
    "for filename in filenames:\n",
    "    file = open(filename, 'r')\n",
    "    data = file.read()\n",
    "    print(data)\n",
    "    file.close()"
   ]
  },
  {
   "cell_type": "code",
   "execution_count": null,
   "id": "4be75770",
   "metadata": {},
   "outputs": [],
   "source": [
    "file = open(\"data.txt\", 'w')\n",
    " \n",
    "file.write(\"100.12\" +\"\\n\")\n",
    "file.write(\"111.23\")\n",
    " \n",
    "file.close()"
   ]
  },
  {
   "cell_type": "code",
   "execution_count": null,
   "id": "4df6d289",
   "metadata": {},
   "outputs": [],
   "source": [
    "file = open(\"data.txt\", 'w')\n",
    "file.write(\"100.12\")\n",
    "file.close()"
   ]
  },
  {
   "cell_type": "code",
   "execution_count": null,
   "id": "eb2cee0c",
   "metadata": {},
   "outputs": [],
   "source": [
    "filenames = [\"1.doc\", \"1.report\", \"1.presentation\"]\n",
    "\n",
    "filenames = [filename.replace('.','-')+ '.txt' for filename in filenames]\n",
    "\n",
    "print(filenames)"
   ]
  },
  {
   "cell_type": "code",
   "execution_count": null,
   "id": "aa04f43b",
   "metadata": {},
   "outputs": [],
   "source": [
    "usernames = [\"john 1990\", \"alberta1970\", \"magnola2000\"]\n",
    "\n",
    "\n",
    "chars = [len(item) for item in usernames]\n",
    "\n",
    "print(chars)\n"
   ]
  },
  {
   "cell_type": "code",
   "execution_count": null,
   "id": "b557e3fa",
   "metadata": {},
   "outputs": [],
   "source": [
    "date = input(\"Ënter todays date:\")\n",
    "mood = input(\"How would you rate your mood:\")\n",
    "journal = input(\"Let your thoughts flow:\\n\")\n",
    "\n",
    "with open(f\"{date}.txt\", 'w') as file:\n",
    "    file.write(mood + '\\n' + '\\n')\n",
    "    file.write(journal)\n"
   ]
  },
  {
   "cell_type": "code",
   "execution_count": null,
   "id": "d4a70aca",
   "metadata": {},
   "outputs": [],
   "source": [
    "password = input(\"Ënter the password:\")\n",
    "result = {}\n",
    "\n",
    "if len(password) >= 8:\n",
    "    result[\"Length\"]= True\n",
    "else: \n",
    "    result[\"Length\"]= True\n",
    "\n",
    "digit = False\n",
    "for i in password:\n",
    "    if i.isdigit():\n",
    "        digit = True\n",
    "result[\"digit\"] = digit\n",
    "\n",
    "uppercase = False\n",
    "for i in password:\n",
    "    if i.isupper():\n",
    "        uppercase = True\n",
    "\n",
    "result[\"uppercase\"] = uppercase\n",
    "\n",
    "if all(result.values()) == True:\n",
    "    print(\"Strong Password\")\n",
    "else:\n",
    "    print(\"Weak Password\")\n",
    "\n",
    "print(result.values())"
   ]
  },
  {
   "cell_type": "code",
   "execution_count": null,
   "id": "221eebd6",
   "metadata": {},
   "outputs": [],
   "source": [
    "ids = [\"XF345_89\", \"XER76849\", \"XA454_55\"]\n",
    " \n",
    "x = 0\n",
    " \n",
    "for id in ids:\n",
    "    if '_' in id:\n",
    "        x = x + 1\n",
    "print(x)"
   ]
  },
  {
   "cell_type": "code",
   "execution_count": null,
   "id": "7942e071",
   "metadata": {},
   "outputs": [],
   "source": [
    "try:\n",
    "    width = float(input(\"Enter rectangle width: \"))\n",
    "    length = float(input(\"Enter rectangle lemgth: \"))\n",
    "    if width == length:\n",
    "        print(\"That looks like a sqaure\")\n",
    "        exit()\n",
    "\n",
    "    area = length * width \n",
    "    print(area)\n",
    "\n",
    "except ValueError:\n",
    "    print(\"Please enter a nummber.\")"
   ]
  },
  {
   "cell_type": "code",
   "execution_count": null,
   "id": "a7cc38a8",
   "metadata": {},
   "outputs": [],
   "source": [
    "filenames = [\"report.txt\", \"downloads.txt\", \"success.txt\", \"folders.txt\"]\n",
    "for item in filenames:\n",
    "    print(item[:-4].capitalize())"
   ]
  },
  {
   "cell_type": "code",
   "execution_count": null,
   "id": "1958022e",
   "metadata": {},
   "outputs": [],
   "source": [
    "try:\n",
    "    waiting_list = [\"john\", \"marry\"]\n",
    "    name = input(\"Enter name: \")\n",
    "    \n",
    "    number = waiting_list.index(name)\n",
    "    print(f\"{name}'s turn is {number}\")\n",
    "except ValueError:\n",
    "    print(f\"{name} is not in the list\")"
   ]
  },
  {
   "cell_type": "code",
   "execution_count": null,
   "id": "faf7df94",
   "metadata": {},
   "outputs": [],
   "source": [
    "#function to get Average \n",
    "def get_average():\n",
    "    with open(\"files/data.txt\", 'r') as file: \n",
    "        data = file.readlines()[1:]\n",
    "\n",
    "\n",
    "    value = data[1:]\n",
    "    value = [float(i) for i in value]\n",
    "\n",
    "    average_local = sum(value)/len(value)\n",
    "    return average_local \n",
    "\n",
    "average_local = get_average()\n",
    "print(average_local)\n"
   ]
  },
  {
   "cell_type": "code",
   "execution_count": null,
   "id": "5b0990c7",
   "metadata": {},
   "outputs": [],
   "source": [
    "def format_filename():\n",
    "    filename = \"report.txt\"\n",
    "    for item in filename:\n",
    "        new = (item[:-4].capitalize())\n",
    "        return new \n",
    "    \n",
    "new_filename = format_filename()\n",
    "print(new_filename)"
   ]
  },
  {
   "cell_type": "code",
   "execution_count": null,
   "id": "9b9a58af",
   "metadata": {},
   "outputs": [],
   "source": [
    "def get_maximum():\n",
    "    celsius = [14, 15.1, 12.3]\n",
    "    maximum = max(celsius)\n",
    "    return(maximum)\n",
    "    \n",
    "celsius = get_maximum()\n",
    "fahrenheit = celsius * 1.8 + 32\n",
    " \n",
    "print(fahrenheit)"
   ]
  },
  {
   "cell_type": "code",
   "execution_count": null,
   "id": "04f9a67e",
   "metadata": {},
   "outputs": [],
   "source": [
    "feet_inches = input(\"Enter feet and inches: \")\n",
    "\n",
    "def parse(feetinches):\n",
    "    parts = feetinches.split(\" \")\n",
    "    feet = float(parts[0])\n",
    "    inches = float(parts[1])\n",
    "    return feet, inches\n",
    "\n",
    "def convert(feet, inches):\n",
    "    meters = feet * 0.3048 + inches *0.0254\n",
    "    return meters\n",
    "\n",
    "f, i = parse(feet_inches)\n",
    "print(\"fi\", f, i)\n",
    "result = convert(f, i)"
   ]
  },
  {
   "cell_type": "code",
   "execution_count": null,
   "id": "fee5c9cd",
   "metadata": {},
   "outputs": [],
   "source": [
    "def calculate_time(h, g=9.80665):\n",
    "    t = (2 * h / g) ** 0.5\n",
    "    return t\n",
    "    \n",
    "  \n",
    "time = calculate_time(100)\n",
    "print(time)"
   ]
  },
  {
   "cell_type": "code",
   "execution_count": 4,
   "id": "852d36ef",
   "metadata": {},
   "outputs": [
    {
     "name": "stdout",
     "output_type": "stream",
     "text": [
      "What are dolphins?\n",
      "1 - Amphibians\n",
      "2 - Mamals\n",
      "3 - Birds\n",
      "Where do they live?\n",
      "1 - Land\n",
      "2 - Water\n",
      "Correct answer 1 Your answer: 3,Correct answer: 3\n",
      "Incorrect asnwer 2 Your answer: 1,Correct answer: 2\n",
      "[{'question_text': 'What are dolphins?', 'alternatives': ['Amphibians', 'Mamals', 'Birds'], 'correct_answer': 3, 'user_choice': 3}, {'question_text': 'Where do they live?', 'alternatives': ['Land', 'Water'], 'correct_answer': 2, 'user_choice': 1}]\n",
      "1 / 2\n"
     ]
    }
   ],
   "source": [
    "#Learn Json \n",
    "\n",
    "import json \n",
    "\n",
    "with open(\"questions.json\", 'r') as file:\n",
    "    content = file.read()\n",
    "\n",
    "data = json.loads(content)\n",
    "score = 0\n",
    "\n",
    "for question in data:\n",
    "    print(question[\"question_text\"])\n",
    "    for index, alternatives in (enumerate(question[\"alternatives\"])):\n",
    "        print(index + 1, \"-\", alternatives)\n",
    "    user_choice = int(input(\"Enter your answer: \"))\n",
    "    question[\"user_choice\"] = user_choice\n",
    "    \n",
    "\n",
    "for index, question in enumerate(data):\n",
    "    if question[\"user_choice\"] == question[\"correct_answer\"]:\n",
    "        score = score + 1\n",
    "        result = \"Correct answer\"\n",
    "    else: \n",
    "        result = \"Incorrect asnwer\"\n",
    "        \n",
    "    message = f\"{result} {index + 1} Your answer: {question ['user_choice']},\" \\\n",
    "                              f\"Correct answer: {question['correct_answer']}\"\n",
    "    print(message)\n",
    "\n",
    "print(data)\n",
    "print(score, \"/\", len(data))    "
   ]
  }
 ],
 "metadata": {
  "kernelspec": {
   "display_name": ".venv",
   "language": "python",
   "name": "python3"
  },
  "language_info": {
   "codemirror_mode": {
    "name": "ipython",
    "version": 3
   },
   "file_extension": ".py",
   "mimetype": "text/x-python",
   "name": "python",
   "nbconvert_exporter": "python",
   "pygments_lexer": "ipython3",
   "version": "3.13.0"
  }
 },
 "nbformat": 4,
 "nbformat_minor": 5
}
