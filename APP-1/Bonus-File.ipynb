{
 "cells": [
  {
   "cell_type": "code",
   "execution_count": null,
   "id": "20548450",
   "metadata": {},
   "outputs": [],
   "source": [
    "contents = [\"How are you \", \"Good thanks\", \"And, yourself?\"]\n",
    "\n",
    "filenames = [\"doc.txt\", \"rock.txt\", \"file.txt\"]\n",
    "\n",
    "for contents, filename in zip(contents, filenames):\n",
    "    file = open(f\"{filename}\", 'w')\n",
    "    file.write(contents)"
   ]
  },
  {
   "cell_type": "code",
   "execution_count": null,
   "id": "ffe13485",
   "metadata": {},
   "outputs": [],
   "source": [
    "user_input = input(\"Add a new member:\")\n",
    "\n",
    "file = open(\"members.txt\", 'a')\n",
    "\n",
    "file.writelines(user_input +\"\\n\")\n",
    "file.close()"
   ]
  },
  {
   "cell_type": "code",
   "execution_count": null,
   "id": "69bbbd07",
   "metadata": {},
   "outputs": [],
   "source": [
    "filenames = ['doc.txt', 'report.txt', 'presentation.txt']\n",
    "\n",
    "for filename in filenames:\n",
    "    file = open(filename, 'w')\n",
    "\n",
    "    file.write(\"Hello\")\n",
    "    file.close()"
   ]
  },
  {
   "cell_type": "code",
   "execution_count": null,
   "id": "d5babd0b",
   "metadata": {},
   "outputs": [],
   "source": [
    "filenames = [\"a.txt\", \"b.txt\", \"c.txt\"]\n",
    "\n",
    "for filename in filenames:\n",
    "    file = open(filename, 'r')\n",
    "    data = file.read()\n",
    "    print(data)\n",
    "    file.close()"
   ]
  },
  {
   "cell_type": "code",
   "execution_count": null,
   "id": "4be75770",
   "metadata": {},
   "outputs": [],
   "source": [
    "file = open(\"data.txt\", 'w')\n",
    " \n",
    "file.write(\"100.12\" +\"\\n\")\n",
    "file.write(\"111.23\")\n",
    " \n",
    "file.close()"
   ]
  },
  {
   "cell_type": "code",
   "execution_count": null,
   "id": "4df6d289",
   "metadata": {},
   "outputs": [],
   "source": [
    "file = open(\"data.txt\", 'w')\n",
    "file.write(\"100.12\")\n",
    "file.close()"
   ]
  },
  {
   "cell_type": "code",
   "execution_count": null,
   "id": "eb2cee0c",
   "metadata": {},
   "outputs": [],
   "source": [
    "filenames = [\"1.doc\", \"1.report\", \"1.presentation\"]\n",
    "\n",
    "filenames = [filename.replace('.','-')+ '.txt' for filename in filenames]\n",
    "\n",
    "print(filenames)"
   ]
  },
  {
   "cell_type": "code",
   "execution_count": null,
   "id": "aa04f43b",
   "metadata": {},
   "outputs": [],
   "source": [
    "usernames = [\"john 1990\", \"alberta1970\", \"magnola2000\"]\n",
    "\n",
    "\n",
    "chars = [len(item) for item in usernames]\n",
    "\n",
    "print(chars)\n"
   ]
  },
  {
   "cell_type": "code",
   "execution_count": null,
   "id": "b557e3fa",
   "metadata": {},
   "outputs": [],
   "source": [
    "date = input(\"Ënter todays date:\")\n",
    "mood = input(\"How would you rate your mood:\")\n",
    "journal = input(\"Let your thoughts flow:\\n\")\n",
    "\n",
    "with open(f\"{date}.txt\", 'w') as file:\n",
    "    file.write(mood + '\\n' + '\\n')\n",
    "    file.write(journal)\n"
   ]
  },
  {
   "cell_type": "code",
   "execution_count": null,
   "id": "d4a70aca",
   "metadata": {},
   "outputs": [],
   "source": [
    "password = input(\"Ënter the password:\")\n",
    "result = {}\n",
    "\n",
    "if len(password) >= 8:\n",
    "    result[\"Length\"]= True\n",
    "else: \n",
    "    result[\"Length\"]= True\n",
    "\n",
    "digit = False\n",
    "for i in password:\n",
    "    if i.isdigit():\n",
    "        digit = True\n",
    "result[\"digit\"] = digit\n",
    "\n",
    "uppercase = False\n",
    "for i in password:\n",
    "    if i.isupper():\n",
    "        uppercase = True\n",
    "\n",
    "result[\"uppercase\"] = uppercase\n",
    "\n",
    "if all(result.values()) == True:\n",
    "    print(\"Strong Password\")\n",
    "else:\n",
    "    print(\"Weak Password\")\n",
    "\n",
    "print(result.values())"
   ]
  },
  {
   "cell_type": "code",
   "execution_count": null,
   "id": "221eebd6",
   "metadata": {},
   "outputs": [],
   "source": [
    "ids = [\"XF345_89\", \"XER76849\", \"XA454_55\"]\n",
    " \n",
    "x = 0\n",
    " \n",
    "for id in ids:\n",
    "    if '_' in id:\n",
    "        x = x + 1\n",
    "print(x)"
   ]
  },
  {
   "cell_type": "code",
   "execution_count": null,
   "id": "7942e071",
   "metadata": {},
   "outputs": [],
   "source": [
    "try:\n",
    "    width = float(input(\"Enter rectangle width: \"))\n",
    "    length = float(input(\"Enter rectangle lemgth: \"))\n",
    "    if width == length:\n",
    "        print(\"That looks like a sqaure\")\n",
    "        exit()\n",
    "\n",
    "    area = length * width \n",
    "    print(area)\n",
    "\n",
    "except ValueError:\n",
    "    print(\"Please enter a nummber.\")"
   ]
  },
  {
   "cell_type": "code",
   "execution_count": null,
   "id": "a7cc38a8",
   "metadata": {},
   "outputs": [],
   "source": [
    "filenames = [\"report.txt\", \"downloads.txt\", \"success.txt\", \"folders.txt\"]\n",
    "for item in filenames:\n",
    "    print(item[:-4].capitalize())"
   ]
  },
  {
   "cell_type": "code",
   "execution_count": null,
   "id": "1958022e",
   "metadata": {},
   "outputs": [],
   "source": [
    "try:\n",
    "    waiting_list = [\"john\", \"marry\"]\n",
    "    name = input(\"Enter name: \")\n",
    "    \n",
    "    number = waiting_list.index(name)\n",
    "    print(f\"{name}'s turn is {number}\")\n",
    "except ValueError:\n",
    "    print(f\"{name} is not in the list\")"
   ]
  },
  {
   "cell_type": "code",
   "execution_count": null,
   "id": "faf7df94",
   "metadata": {},
   "outputs": [],
   "source": [
    "#function to get Average \n",
    "def get_average():\n",
    "    with open(\"files/data.txt\", 'r') as file: \n",
    "        data = file.readlines()[1:]\n",
    "\n",
    "\n",
    "    value = data[1:]\n",
    "    value = [float(i) for i in value]\n",
    "\n",
    "    average_local = sum(value)/len(value)\n",
    "    return average_local \n",
    "\n",
    "average_local = get_average()\n",
    "print(average_local)\n"
   ]
  },
  {
   "cell_type": "code",
   "execution_count": null,
   "id": "5b0990c7",
   "metadata": {},
   "outputs": [],
   "source": [
    "def format_filename():\n",
    "    filename = \"report.txt\"\n",
    "    for item in filename:\n",
    "        new = (item[:-4].capitalize())\n",
    "        return new \n",
    "    \n",
    "new_filename = format_filename()\n",
    "print(new_filename)"
   ]
  },
  {
   "cell_type": "code",
   "execution_count": null,
   "id": "9b9a58af",
   "metadata": {},
   "outputs": [],
   "source": [
    "def get_maximum():\n",
    "    celsius = [14, 15.1, 12.3]\n",
    "    maximum = max(celsius)\n",
    "    return(maximum)\n",
    "    \n",
    "celsius = get_maximum()\n",
    "fahrenheit = celsius * 1.8 + 32\n",
    " \n",
    "print(fahrenheit)"
   ]
  },
  {
   "cell_type": "code",
   "execution_count": null,
   "id": "04f9a67e",
   "metadata": {},
   "outputs": [],
   "source": [
    "feet_inches = input(\"Enter feet and inches: \")\n",
    "\n",
    "def parse(feetinches):\n",
    "    parts = feetinches.split(\" \")\n",
    "    feet = float(parts[0])\n",
    "    inches = float(parts[1])\n",
    "    return feet, inches\n",
    "\n",
    "def convert(feet, inches):\n",
    "    meters = feet * 0.3048 + inches *0.0254\n",
    "    return meters\n",
    "\n",
    "f, i = parse(feet_inches)\n",
    "print(\"fi\", f, i)\n",
    "result = convert(f, i)"
   ]
  },
  {
   "cell_type": "code",
   "execution_count": null,
   "id": "fee5c9cd",
   "metadata": {},
   "outputs": [],
   "source": [
    "def calculate_time(h, g=9.80665):\n",
    "    t = (2 * h / g) ** 0.5\n",
    "    return t\n",
    "    \n",
    "  \n",
    "time = calculate_time(100)\n",
    "print(time)"
   ]
  },
  {
   "cell_type": "code",
   "execution_count": null,
   "id": "852d36ef",
   "metadata": {},
   "outputs": [],
   "source": [
    "#Learn Json \n",
    "\n",
    "import json \n",
    "\n",
    "with open(\"questions.json\", 'r') as file:\n",
    "    content = file.read()\n",
    "\n",
    "data = json.loads(content)\n",
    "score = 0\n",
    "\n",
    "for question in data:\n",
    "    print(question[\"question_text\"])\n",
    "    for index, alternatives in (enumerate(question[\"alternatives\"])):\n",
    "        print(index + 1, \"-\", alternatives)\n",
    "    user_choice = int(input(\"Enter your answer: \"))\n",
    "    question[\"user_choice\"] = user_choice\n",
    "    \n",
    "\n",
    "for index, question in enumerate(data):\n",
    "    if question[\"user_choice\"] == question[\"correct_answer\"]:\n",
    "        score = score + 1\n",
    "        result = \"Correct answer\"\n",
    "    else: \n",
    "        result = \"Incorrect asnwer\"\n",
    "        \n",
    "    message = f\"{result} {index + 1} Your answer: {question ['user_choice']},\" \\\n",
    "                              f\"Correct answer: {question['correct_answer']}\"\n",
    "    print(message)\n",
    "\n",
    "print(data)\n",
    "print(score, \"/\", len(data))    "
   ]
  },
  {
   "cell_type": "code",
   "execution_count": 3,
   "id": "2ca81614",
   "metadata": {},
   "outputs": [
    {
     "ename": "ImportError",
     "evalue": "DLL load failed while importing _tkinter: The specified procedure could not be found.",
     "output_type": "error",
     "traceback": [
      "\u001b[31m---------------------------------------------------------------------------\u001b[39m",
      "\u001b[31mImportError\u001b[39m                               Traceback (most recent call last)",
      "\u001b[36mCell\u001b[39m\u001b[36m \u001b[39m\u001b[32mIn[3]\u001b[39m\u001b[32m, line 1\u001b[39m\n\u001b[32m----> \u001b[39m\u001b[32m1\u001b[39m \u001b[38;5;28;01mimport\u001b[39;00m\u001b[38;5;250m \u001b[39m\u001b[34;01mFreeSimpleGUI\u001b[39;00m\u001b[38;5;250m \u001b[39m\u001b[38;5;28;01mas\u001b[39;00m\u001b[38;5;250m \u001b[39m\u001b[34;01msg\u001b[39;00m \n\u001b[32m      3\u001b[39m label1 = sg.text(\u001b[33m\"\u001b[39m\u001b[33mSelect files to compress\u001b[39m\u001b[33m\"\u001b[39m)\n\u001b[32m      4\u001b[39m input1 = sg.input()\n",
      "\u001b[36mFile \u001b[39m\u001b[32mc:\\Users\\Karanveer.Singh\\Documents\\Scripts\\.venv\\Lib\\site-packages\\FreeSimpleGUI\\__init__.py:23\u001b[39m\n\u001b[32m     21\u001b[39m \u001b[38;5;28;01mimport\u001b[39;00m\u001b[38;5;250m \u001b[39m\u001b[34;01mthreading\u001b[39;00m\n\u001b[32m     22\u001b[39m \u001b[38;5;28;01mimport\u001b[39;00m\u001b[38;5;250m \u001b[39m\u001b[34;01mtime\u001b[39;00m\n\u001b[32m---> \u001b[39m\u001b[32m23\u001b[39m \u001b[38;5;28;01mimport\u001b[39;00m\u001b[38;5;250m \u001b[39m\u001b[34;01mtkinter\u001b[39;00m\u001b[38;5;250m \u001b[39m\u001b[38;5;28;01mas\u001b[39;00m\u001b[38;5;250m \u001b[39m\u001b[34;01mtk\u001b[39;00m\n\u001b[32m     24\u001b[39m \u001b[38;5;28;01mimport\u001b[39;00m\u001b[38;5;250m \u001b[39m\u001b[34;01mtkinter\u001b[39;00m\u001b[34;01m.\u001b[39;00m\u001b[34;01mfont\u001b[39;00m\n\u001b[32m     25\u001b[39m \u001b[38;5;28;01mimport\u001b[39;00m\u001b[38;5;250m \u001b[39m\u001b[34;01mtraceback\u001b[39;00m\n",
      "\u001b[36mFile \u001b[39m\u001b[32m~\\AppData\\Local\\Programs\\Python\\Python313\\Lib\\tkinter\\__init__.py:38\u001b[39m\n\u001b[32m     35\u001b[39m \u001b[38;5;28;01mimport\u001b[39;00m\u001b[38;5;250m \u001b[39m\u001b[34;01msys\u001b[39;00m\n\u001b[32m     36\u001b[39m \u001b[38;5;28;01mimport\u001b[39;00m\u001b[38;5;250m \u001b[39m\u001b[34;01mtypes\u001b[39;00m\n\u001b[32m---> \u001b[39m\u001b[32m38\u001b[39m \u001b[38;5;28;01mimport\u001b[39;00m\u001b[38;5;250m \u001b[39m\u001b[34;01m_tkinter\u001b[39;00m \u001b[38;5;66;03m# If this fails your Python may not be configured for Tk\u001b[39;00m\n\u001b[32m     39\u001b[39m TclError = _tkinter.TclError\n\u001b[32m     40\u001b[39m \u001b[38;5;28;01mfrom\u001b[39;00m\u001b[38;5;250m \u001b[39m\u001b[34;01mtkinter\u001b[39;00m\u001b[34;01m.\u001b[39;00m\u001b[34;01mconstants\u001b[39;00m\u001b[38;5;250m \u001b[39m\u001b[38;5;28;01mimport\u001b[39;00m *\n",
      "\u001b[31mImportError\u001b[39m: DLL load failed while importing _tkinter: The specified procedure could not be found."
     ]
    }
   ],
   "source": [
    "import FreeSimpleGUI as sg \n",
    "\n",
    "label1 = sg.text(\"Select files to compress\")\n",
    "input1 = sg.input()\n",
    "choose_button1 = sg.FilesBrowse(\"Choose\")\n",
    "\n",
    "label2 = sg.text(\"Select destination folder\")\n",
    "input2 = sg.input()\n",
    "choose_button2 = sg.FolderBrowse(\"Choose\")\n",
    "\n",
    "window = sg.Window(\"File Compressor\", layout=([[label1, input1, choose_button1],\n",
    "                                                [label2, input2, choose_button2]]))\n",
    "\n",
    "window.read()\n",
    "window.close()"
   ]
  }
 ],
 "metadata": {
  "kernelspec": {
   "display_name": ".venv",
   "language": "python",
   "name": "python3"
  },
  "language_info": {
   "codemirror_mode": {
    "name": "ipython",
    "version": 3
   },
   "file_extension": ".py",
   "mimetype": "text/x-python",
   "name": "python",
   "nbconvert_exporter": "python",
   "pygments_lexer": "ipython3",
   "version": "3.13.0"
  }
 },
 "nbformat": 4,
 "nbformat_minor": 5
}
